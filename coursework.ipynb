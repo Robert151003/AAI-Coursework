{
 "cells": [
  {
   "cell_type": "markdown",
   "metadata": {},
   "source": [
    "**Coursework Breakdown - Delete**"
   ]
  },
  {
   "cell_type": "markdown",
   "metadata": {},
   "source": [
    "\n",
    "**Objective**\n",
    "\n",
    "You will prepare a tutorial in which you showcase the Jupyter Notebook capabilities in demonstrating a machine learning pipeline of your choice. You are\n",
    "encouraged to look up for online tutorials to use as examples, but you need to\n",
    "develop your own pipeline. The final aim is to create an example of developing\n",
    "an AI system that can be showcased online and can be used as part of your\n",
    "portfolio in job applications.\n",
    "\n",
    "**Must Include**\n",
    "1. A clear title that illustrates the topic of the tutorial. - ✅\n",
    "2. An abstract of 80 to 100 words that summarises the content. - ✅\n",
    "3. A list of learning objectives that will be achieved by following this tutorial. - ✅\n",
    "4. A table of content. - ✅\n",
    "6. At least the following libraries: Pytorch, Matplotlib, Numpy. - ✅\n",
    "7. Use of markup. - ✅\n",
    "8. Clear identification of sources to avoid plagiarism. - ✅\n",
    "9. Use one dataset, e.g., the MNIST - ✅\n",
    "10. A training process for a machine learning algorithm, e.g., the optimization\n",
    "of a neural model. - ✅\n",
    "11. How different configurations of hyper-parameters affects the results.  - ✅\n",
    "12. Results with both graphs and tables. - ✅\n",
    "13. A list of references at the end. - ✅\n",
    "5. Differences with pros and cons in relation to cited sources of similar online\n",
    "tutorials.\n",
    "\n",
    "A short description in the form of a comparison between your tutorial and\n",
    "similar online tutorials (which should be cited). If possible, the\n",
    "comparison should include key differences as well as the pros and cons of\n",
    "each.\n",
    "\n",
    "14. A reading time of 10 to 15 minutes.\n",
    "\n",
    "Due 19th March\n",
    "\n",
    "**Marking Scheme**\n",
    "\n",
    "Marks will be awarded according to the following criteria:\n",
    "\n",
    "• Completeness: Does the tutorial cover all required components (e.g.,\n",
    "abstract, objectives, dataset, training process, results, references, etc.)?\n",
    "[25%]\n",
    "\n",
    "• Clarity and code quality: Are the explanations logically structured and\n",
    "easy to follow? Do they enhance the learning experience? Is the Jupyter\n",
    "Notebook code well-structured, efficient, and properly documented? Does\n",
    "it execute correctly? [25%]\n",
    "\n",
    "• Presentation quality and professional elements: : Are graphs, tables, and markdown explanations clear and informative? Do they enhance\n",
    "the tutorial’s readability? [25%]\n",
    "\n",
    "• Originality and critical thinking: Does the tutorial show a unique\n",
    "perspective, creativity, or novel insights beyond existing tutorials? Does\n",
    "it critically compare different techniques? [25%]\n"
   ]
  },
  {
   "cell_type": "markdown",
   "metadata": {},
   "source": [
    "# **<u>Handwritten Digit Recognition with PyTorch: A CNN Approach</u>**\n"
   ]
  },
  {
   "cell_type": "markdown",
   "metadata": {},
   "source": [
    "## **Abstract**  \n",
    "---\n",
    "\n",
    "This project demonstrates the capabilities of **Jupyter Notebook** by developing a **machine learning (ML) pipeline** for **Optical Character Recognition (OCR)**. The pipeline takes an **image** as input, processes it using **pre-processing techniques**, and extracts the **text** within it, providing users with a readable and copyable output.  \n",
    "\n",
    "It utilizes libraries such as **PyTorch, Torchvision, Matplotlib and NumPy** to achieve accurate and efficient text extraction. This project highlights Jupyter Notebook’s effectiveness in building and executing **ML workflows** for real-world applications.  \n"
   ]
  },
  {
   "cell_type": "markdown",
   "metadata": {},
   "source": [
    "## **Contents**  \n",
    "---\n",
    "\n",
    "- [Learning Objectives](#learning-objectives)  \n",
    "- [Required Imports](#required-imports)  \n",
    "- [Neural Network Algorithm](#nna)  \n",
    "- [How Hyper-Parameters Affect the Model](#hyper-parameters)  \n",
    "- [Results](#results)  \n",
    "- [References](#references)\n",
    "- [Bibliography](#bibliography)"
   ]
  },
  {
   "cell_type": "markdown",
   "metadata": {},
   "source": [
    "## **Learning Objectives** <a class=\"anchor\" id=\"learning-objectives\"></a>\n",
    "---\n",
    "\n",
    "- Learn to structure an **AI workflow** in Jupyter Notebook for better readability and reproducibility.  \n",
    "- Understand how to **set up a machine learning environment** – import necessary libraries and learn their functions.  \n",
    "- Learn how to **load and pre-process data** efficiently.  \n",
    "- Build a **Convolutional Neural Network (CNN)** and understand the purpose of each layer.  \n",
    "- Train a **Neural Network** using different techniques to improve performance (e.g., **backpropagation**).  \n",
    "- Learn how to effectively **evaluate, visualize, and present** a model’s performance.  \n",
    "- Understand the **effects of hyperparameters** and how to fine-tune them correctly.  \n"
   ]
  },
  {
   "cell_type": "markdown",
   "metadata": {},
   "source": [
    "## **Required Imports** <a class=\"anchor\" id=\"required-imports\"></a>\n",
    "---"
   ]
  },
  {
   "cell_type": "code",
   "execution_count": 6,
   "metadata": {},
   "outputs": [],
   "source": [
    "import torch\n",
    "import torch.nn as nn\n",
    "import torch.optim as optim\n",
    "import torchvision\n",
    "import torchvision.transforms as transforms\n",
    "import matplotlib.pyplot as plt\n",
    "import numpy as np\n",
    "import pandas as pd"
   ]
  },
  {
   "cell_type": "markdown",
   "metadata": {},
   "source": [
    "- **`torch`** → Core <a href=\"https://pytorch.org/\">PyTorch</a> library used for creating deep neural networks (Yasar, 2022).\n",
    "- **`torch.nn`** → Provides modules used to train and build layers of neural networks (Prakriti, 2024).  \n",
    "- **`torch.optim`** → Contains optimization algorithms such as **SGD, Adam** (PyTorch, n.d).  \n",
    "- **`torchvision`** → Provides multiple tools to support with computer vision tasks (Gomede, 2023).  \n",
    "- **`torchvision.transforms`** → Contains image transformation functions to help with **normalization, resizing, and augmentation** (PyTorch, n.d).\n",
    "- **`matplotlib.pyplot`** → Core <a href=\"https://matplotlib.org/\">matplotlib</a> libary used for **visualizing** data into graphs (matplotlib, n.d).\n",
    "- **`numpy`** → Core <a href=\"https://numpy.org/\">numpy</a> libarary which provides key **numerical functions** for handling arrays (NumPy, n.d).  \n",
    "- **`pandas`** → Core <a href=\"https://pandas.pydata.org/\">pandas</a> libary which provides functions for **analyzing, cleaning, exploring, and manipulating data** (w3schools, n.d).  \n"
   ]
  },
  {
   "cell_type": "markdown",
   "metadata": {},
   "source": [
    "## **Neural Network Algorithm** <a class=\"anchor\" id=\"nna\"></a>\n",
    "---"
   ]
  },
  {
   "cell_type": "markdown",
   "metadata": {},
   "source": [
    "### **Downloading and Preparing the Dataset**\n",
    "\n",
    "The aim of this code is to download and prepare the **MNIST dataset** for the model to train and test on. It does this by first converting the images to **tensors** , and normalising the pixel values to a range between **[-1, 1]**. This ensures that the training process of the model is stable."
   ]
  },
  {
   "cell_type": "code",
   "execution_count": 7,
   "metadata": {},
   "outputs": [],
   "source": [
    "# Define transformations\n",
    "transform = transforms.Compose([transforms.ToTensor(), transforms.Normalize((0.5,), (0.5,))])"
   ]
  },
  {
   "cell_type": "markdown",
   "metadata": {},
   "source": [
    "The **training** data (consisting of **60,000** images) and **test** data (consisting of **10,000** images) sets are loaded using **`torchvision.datasets.MNIST`**, to ensure that the data is downloaded if not available."
   ]
  },
  {
   "cell_type": "code",
   "execution_count": 8,
   "metadata": {},
   "outputs": [],
   "source": [
    "# Load MNIST dataset\n",
    "trainset = torchvision.datasets.MNIST(root='./data', train=True, download=True, transform=transform)\n",
    "testset = torchvision.datasets.MNIST(root='./data', train=False, download=True, transform=transform)"
   ]
  },
  {
   "cell_type": "markdown",
   "metadata": {},
   "source": [
    "The **dataloaders** are then created. They have a **batch size of 64**, and **shuffle** the training data so that there is a better generalisation of the results, but keeps the test data unchanged."
   ]
  },
  {
   "cell_type": "code",
   "execution_count": 9,
   "metadata": {},
   "outputs": [
    {
     "name": "stdout",
     "output_type": "stream",
     "text": [
      "Train set: 60000, Test set: 10000\n"
     ]
    }
   ],
   "source": [
    "# Define data loaders\n",
    "trainloader = torch.utils.data.DataLoader(trainset, batch_size=64, shuffle=True)\n",
    "testloader = torch.utils.data.DataLoader(testset, batch_size=64, shuffle=False)\n",
    "\n",
    "# Check dataset size\n",
    "print(f\"Train set: {len(trainset)}, Test set: {len(testset)}\")"
   ]
  },
  {
   "cell_type": "markdown",
   "metadata": {},
   "source": [
    "### **The Convolutional Neural Network**\n",
    "This code defines a **Convolutional Neural Network (CNN)** for handwritten digit recognition. The model uses the function provided by the **`PyTorch.nn`** package, and consists of 4 layers: (i) **Convolutional**; (ii) **Pooling**; (iii) **Activation**; (iv) **Fully connected**. The convolutional layer aims to extract **key features and patterns** from the input data (Deep Learning on Edge Computing Devices, 2022). The pooling layer is responsioble for **reducing the spatial dimensions of the input data** (dremio, n.d). The activation layer enables the model to **recognise and learn complex patterns** in the input data (Ali, 2024). The fully connected layer **connects all the nodes in one layer to all the nodes in another layer** (GeeksForGeeks, 2024). The **`forward()`** function determines the data flow through the CNN, and specifies how the input data moves through each of these layers."
   ]
  },
  {
   "cell_type": "code",
   "execution_count": 24,
   "metadata": {},
   "outputs": [],
   "source": [
    "class CNN(nn.Module):\n",
    "    def __init__(self, COLOUR_CHANNELS, FILTERS, CONV_KERNEL_SIZE, POOL_KERNEL_SIZE, PADDING, STRIDE, NUMBER_NEURONS):\n",
    "        super(CNN, self).__init__()\n",
    "        self.conv1 = nn.Conv2d(COLOUR_CHANNELS, FILTERS, kernel_size=CONV_KERNEL_SIZE, padding=PADDING) # Colour Channels, Number of Filters, Kernel Size, Padding\n",
    "        self.conv2 = nn.Conv2d(FILTERS, FILTERS*2, kernel_size=CONV_KERNEL_SIZE, padding=PADDING) # Colour Channels, Number of Filters, Kernel Size, Padding\n",
    "        self.pool = nn.MaxPool2d(kernel_size=POOL_KERNEL_SIZE, stride=STRIDE) # Kernel Size, Stride\n",
    "        self.fc1 = nn.Linear(FILTERS*2 * 7 * 7, NUMBER_NEURONS) # Flattened Input Size, Number of Neurons\n",
    "        self.fc2 = nn.Linear(NUMBER_NEURONS, 10) # Input Size, Number of Classes\n",
    "        self.relu = nn.ReLU()\n",
    "\n",
    "    def forward(self, x):\n",
    "        x = self.pool(self.relu(self.conv1(x)))\n",
    "        x = self.pool(self.relu(self.conv2(x)))\n",
    "        x = x.view(x.size(0), -1)\n",
    "        x = self.relu(self.fc1(x))\n",
    "        x = self.fc2(x)\n",
    "        return x\n",
    "\n",
    "model1 = CNN(1, 32, 3, 2, 1, 2, 128)\n",
    "model2 = CNN(1, 32, 3, 2, 1, 2, 128)"
   ]
  },
  {
   "cell_type": "markdown",
   "metadata": {},
   "source": [
    "The spatial size of the MNIST dataset is **28x28** with a **colour channel of 1** (greyscaled), resulting in the **spatial dimensions being 1x28x28**. For model1, the first convolutional layer takes the input image and **applies 32 filters of size 3x3 with a padding of 1**. This preserves the spatial dimensions, and thus **results in an output size of 32x28x28**. Following this is a pooling layer with a **kernel size and stride of 2**, reducing the width and height by half. This produces the **feature map of spatial dimensions 32x14x14**. The second convolutional layer takes the feature map, and **applies 64 filters to it of size 3x3**, resulting in **spatial dimensions of 64x14x14**. Another pooling layer is then applied, halving the width and height again, thus resulting in a **spatial size of 64x7x7**. Before passing the data to the fully connected layers, the output is **flattened into a 1D tensor of size 64x7x7=3136**. This is then fed into the first fully connected layer, **reducing it to 128 neurons**. The second fully connected layer then **maps the 128 features to the 10 output classes**, representing the number of categories in the classification task.\n",
    "\n",
    "In model2, the calculations stay the same, but we can compare the model to another with different hyperparameters to allow us to compare and determines the best combination."
   ]
  },
  {
   "cell_type": "markdown",
   "metadata": {},
   "source": [
    "### **The Criterion and Optimiser**\n",
    "\n",
    "The **criterion** and **optimizer** are key components when training this neural network.  \n",
    "\n",
    "- **`criterion = nn.CrossEntropyLoss()`**: This defines the loss function used to measure the error between the predictions and the truth data throught the training process (nn, n.d)."
   ]
  },
  {
   "cell_type": "code",
   "execution_count": 25,
   "metadata": {},
   "outputs": [],
   "source": [
    "criterion = nn.CrossEntropyLoss()"
   ]
  },
  {
   "cell_type": "markdown",
   "metadata": {},
   "source": [
    "- **`optimizer = optim.Adam(model.parameters(), lr=0.001)`**: Aims to improve the model by adjusting the parameters throught the training to minimise the loss function value (Balawejder, 2022)."
   ]
  },
  {
   "cell_type": "code",
   "execution_count": 28,
   "metadata": {},
   "outputs": [],
   "source": [
    "optimiser1 = optim.Adam(model1.parameters(), lr=0.001)\n",
    "optimiser2 = optim.Adam(model2.parameters(), lr=0.001)"
   ]
  },
  {
   "cell_type": "markdown",
   "metadata": {},
   "source": [
    "The combination of these ensure that the CNNs training process improves its predictions over time."
   ]
  },
  {
   "cell_type": "markdown",
   "metadata": {},
   "source": [
    "### **Training**\n",
    "---\n",
    "\n",
    "#### **Initialisation**\n",
    "- The number of **epochs** determines how many times the model is trained on the data.\n",
    "- The device determines whether the model will use the **GPU** (cuda) or **CPU** to train. Training on a GPU is much more efficient.\n",
    "- Arrays are initialised to store key information about the model and its training.\n",
    "\n",
    "#### **Training Phase (`model.train()`)**  \n",
    "For each epoch:  \n",
    "1. The model initialises training using `model.train()`.  \n",
    "2. The **running loss and accuracy** are initialized in order to track performance.  \n",
    "3. The loop iterates over **training batches: (`trainloader`)**.  \n",
    "4. **Gradients are reset: (`optimizer.zero_grad()`)**.  \n",
    "5. **The model makes predictions: (`outputs = model(images)`)** and computes the **loss: (`criterion(outputs, labels)`)**.  \n",
    "6. **Backpropagation: (`loss.backward()`)** calculates the gradients, and **optimizer: (`optimizer.step()`)** updates the models weights.  \n",
    "7. **Accuracy is calculated** by comparing predicted labels with the truth values.  \n",
    "\n",
    "After looping through all training batches, the **epoch's average loss and accuracy are computed and stored**.  \n",
    "\n",
    "#### **Validation Phase (`model.eval()`)**  \n",
    "After training, the model begins **evaluation: (`model.eval()`)**.\n",
    "1. The loop iterates over **test batches: (`testloader`)**.\n",
    "2. **Predictions** and **loss** are computed. \n",
    "3. **Validation loss** and **accuracy** are stored for performance tracking.  \n",
    "\n",
    "#### **Saving the Best Model**  \n",
    "- If the **validation accuracy** improves, the **model's state is saved: (`torch.save(model.state_dict(), \"best_model.pth\")`)**, to ensure the best model is saved.  \n"
   ]
  },
  {
   "cell_type": "code",
   "execution_count": 36,
   "metadata": {},
   "outputs": [
    {
     "name": "stdout",
     "output_type": "stream",
     "text": [
      "Training Model: model_1\n",
      "Epoch 1/1 - Train Loss: 0.0099, Train Acc: 99.63% | Val Loss: 0.0286, Val Acc: 99.07%\n",
      "Training complete for model_1. Best Validation Accuracy: 99.07%\n",
      "Training Model: model_2\n",
      "Epoch 1/1 - Train Loss: 0.1611, Train Acc: 95.04% | Val Loss: 0.0627, Val Acc: 97.96%\n",
      "Training complete for model_2. Best Validation Accuracy: 97.96%\n"
     ]
    }
   ],
   "source": [
    "device = torch.device(\"cuda\" if torch.cuda.is_available() else \"cpu\")\n",
    "\n",
    "def trainModel(model, optimiser, model_name, num_epochs=1):\n",
    "    print(f\"Training Model: {model_name}\")\n",
    "\n",
    "    # Initialise variables\n",
    "    train_losses = np.zeros(num_epochs)\n",
    "    val_losses = np.zeros(num_epochs)\n",
    "    train_accuracies = np.zeros(num_epochs)\n",
    "    val_accuracies = np.zeros(num_epochs)\n",
    "    best_val_acc = 0.0\n",
    "\n",
    "    model.to(device)\n",
    "\n",
    "    for epoch in range(num_epochs):\n",
    "        model.train()\n",
    "        running_loss = 0.0\n",
    "        correct, total = 0, 0\n",
    "\n",
    "        for images, labels in trainloader:\n",
    "            images, labels = images.to(device), labels.to(device)\n",
    "\n",
    "            optimiser.zero_grad()\n",
    "            outputs = model(images)\n",
    "            loss = criterion(outputs, labels)\n",
    "            loss.backward()\n",
    "            optimiser.step()\n",
    "\n",
    "            running_loss += loss.item()\n",
    "            _, predicted = torch.max(outputs, 1)\n",
    "            total += labels.size(0)\n",
    "            correct += (predicted == labels).sum().item()\n",
    "\n",
    "        # Calculates training loss & accuracy\n",
    "        train_losses[epoch] = running_loss / len(trainloader)\n",
    "        train_accuracies[epoch] = 100 * correct / total\n",
    "\n",
    "        # Validation Phase\n",
    "        model.eval()\n",
    "        val_loss, val_correct, val_total = 0.0, 0, 0\n",
    "\n",
    "        with torch.no_grad():\n",
    "            for images, labels in testloader:\n",
    "                images, labels = images.to(device), labels.to(device)\n",
    "                outputs = model(images)\n",
    "                loss = criterion(outputs, labels)\n",
    "\n",
    "                val_loss += loss.item()\n",
    "                _, predicted = torch.max(outputs, 1)\n",
    "                val_total += labels.size(0)\n",
    "                val_correct += (predicted == labels).sum().item()\n",
    "\n",
    "        val_losses[epoch] = val_loss / len(testloader)\n",
    "        val_accuracies[epoch] = 100 * val_correct / val_total\n",
    "\n",
    "        # Saves the best model\n",
    "        if val_accuracies[epoch] > best_val_acc:\n",
    "            best_val_acc = val_accuracies[epoch]\n",
    "            torch.save(model.state_dict(), f\"{model_name}_best_model.pth\")\n",
    "\n",
    "        print(f\"Epoch {epoch+1}/{num_epochs} - \"\n",
    "              f\"Train Loss: {train_losses[epoch]:.4f}, Train Acc: {train_accuracies[epoch]:.2f}% | \"\n",
    "              f\"Val Loss: {val_losses[epoch]:.4f}, Val Acc: {val_accuracies[epoch]:.2f}%\")\n",
    "\n",
    "    print(f\"Training complete for {model_name}. Best Validation Accuracy: {best_val_acc:.2f}%\")\n",
    "\n",
    "    return train_losses, val_losses, train_accuracies, val_accuracies\n",
    "\n",
    "train_losses_1, val_losses_1, train_accs_1, val_accs_1 = trainModel(model1, optimiser1, \"model_1\")\n",
    "train_losses_2, val_losses_2, train_accs_2, val_accs_2 = trainModel(model2, optimiser2, \"model_2\")\n"
   ]
  },
  {
   "cell_type": "markdown",
   "metadata": {},
   "source": [
    "## **How Hyper-Parameters Affect the Model** <a class=\"anchor\" id=\"hyper-parameters\"></a>\n",
    "\n",
    "---\n",
    "\n",
    "#### **1. Batch Size** - Determines how many samples are passed to the model at a time during training.  \n",
    "- **Larger** → Faster training but may result in less diverse results.  \n",
    "- **Smaller** → Slower training but often leads to better generalization.  \n",
    "\n",
    "#### **2. Shuffle** - Randomly shuffles the dataset before each epoch.  \n",
    "- **True** → Default for training. Helps the model generalize better by preventing it from memorizing data order.  \n",
    "- **False** → Ensures evaluation is done on the same ordered dataset.  \n",
    "\n",
    "#### **3. Normalisation** - Normalizes pixel values to a range between two points.  \n",
    "- Improves convergence, making training more stable. Poor normalization can lead to inefficient learning and poor performance.  \n",
    "\n",
    "#### **4. Number of Filters** - Defines the number of convolutional kernels that detect patterns.  \n",
    "- **More** → Longer computation but better feature detection.  \n",
    "- **Less** → Faster training but less effective feature detection.  \n",
    "\n",
    "#### **5. Kernel Size** - Size of the filter that scans the image.  \n",
    "- **Larger** → Captures bigger patterns but may miss finer details.  \n",
    "- **Smaller** → Preserves fine details but results in longer training times.  \n",
    "\n",
    "#### **6. Padding** - Adds extra pixels to maintain spatial dimensions.  \n",
    "- Prevents information loss by keeping the output size the same.  \n",
    "\n",
    "#### **7. Pooling Size** - Reduces dimensions while preserving important features.  \n",
    "- **Larger** → Reduces size significantly but may remove details.  \n",
    "- **Smaller** → Retains more details but with less reduction.  \n",
    "\n",
    "#### **8. Stride** - Determines how far the filter moves at each step.  \n",
    "- Affects the output size and information retention.  \n",
    "\n",
    "#### **9. Fully Connected Layer Size** - Defines the number of neurons in the dense layer.  \n",
    "- **More Neurons** → Captures complex features but increases training time.  \n",
    "\n",
    "#### **10. Activation Function** - Introduces non-linearity into the model.  \n",
    "- Speeds up training and prevents vanishing gradients.  \n",
    "\n",
    "#### **11. Learning Rate** - Controls how much the model updates during training.  \n",
    "- **Lower** → Slower but more stable training.  \n",
    "- **Higher** → Faster training but risk of overshooting or overfitting.  \n",
    "\n",
    "#### **12. Epochs** - Determines how many times the model trains on the dataset.  \n",
    "- More epochs allow deeper learning but may cause overfitting.  \n",
    "\n",
    "#### **13. Optimiser** - Controls how the model updates weights.  \n",
    "- Using **Adam** instead of traditional optimizers like SGD improves convergence speed and stability.  "
   ]
  },
  {
   "cell_type": "markdown",
   "metadata": {},
   "source": [
    "## **Results** <a class=\"anchor\" id=\"results\"></a>\n",
    "---"
   ]
  },
  {
   "cell_type": "markdown",
   "metadata": {},
   "source": [
    "### **Evaluating the Model on the Test Set**  \n",
    "\n",
    "This code evaluates the trained **CNN model** on the **test dataset** to measure its final accuracy.  \n",
    "\n",
    "- **`correct = 0, total = 0`**: These variables keep track of the number of correctly predicted samples and the total number of samples.  \n",
    "- **`model.eval()`**: Begins **evaluation**, which disables features like **dropout** and **batch normalization updates** for stable predictions.  \n",
    "- **`with torch.no_grad():`**: This disables the gradient calculation which **reduces memory usage and speeds up inference** as gradients are not needed for evaluation.  \n",
    "- **Iterating over the `testloader`**: The loop goes through all batches of **test images and labels**.  \n",
    "- **`outputs = model(images)`**: The model makes predictions on the test images.\n",
    "- **`_, predicted = torch.max(outputs, 1)`**: Extracts the class with the highest prediciton probability.  \n",
    "- **`correct += (predicted == labels).sum().item()`**: Counts the number of correct predictions.\n",
    "- **Final Accuracy Calculation**: The accuracy is calculated as **(correct predictions / total samples) × 100**.  "
   ]
  },
  {
   "cell_type": "code",
   "execution_count": 41,
   "metadata": {},
   "outputs": [
    {
     "name": "stdout",
     "output_type": "stream",
     "text": [
      "Accuracy on test set for model_1: 99.07%\n",
      "Accuracy on test set for model_2: 97.96%\n"
     ]
    }
   ],
   "source": [
    "def evaluate_model(model, model_name):\n",
    "    correct = 0\n",
    "    total = 0\n",
    "    model.eval()\n",
    "\n",
    "    with torch.no_grad():\n",
    "        for images, labels in testloader:\n",
    "            images, labels = images.to(device), labels.to(device)\n",
    "            outputs = model(images)\n",
    "            _, predicted = torch.max(outputs, 1)\n",
    "            total += labels.size(0)\n",
    "            correct += (predicted == labels).sum().item()\n",
    "\n",
    "    accuracy = 100 * correct / total\n",
    "    print(f'Accuracy on test set for {model_name}: {accuracy:.2f}%')\n",
    "\n",
    "evaluate_model(model1, \"model_1\")\n",
    "evaluate_model(model2, \"model_2\")"
   ]
  },
  {
   "cell_type": "markdown",
   "metadata": {},
   "source": [
    "### **Visualizing Model Predictions**  \n",
    "\n",
    "- **`images, labels = next(iter(testloader))`**: Retrieves a batch of the test images and labels.  \n",
    "- **`outputs = model(images.to(device))`**: Generate predictions onthe test data.  \n",
    "- **`_, predictions = torch.max(outputs, 1)`**: Extracts the predicted class with the highest probability for each image.  \n",
    "- Plots the predictions in relation to the test data."
   ]
  },
  {
   "cell_type": "code",
   "execution_count": 38,
   "metadata": {},
   "outputs": [
    {
     "data": {
      "image/png": "[encoded data removed]",
      "text/plain": [
       "<Figure size 1000x200 with 5 Axes>"
      ]
     },
     "metadata": {},
     "output_type": "display_data"
    },
    {
     "data": {
      "image/png": "[encoded data removed]",
      "text/plain": [
       "<Figure size 1000x200 with 5 Axes>"
      ]
     },
     "metadata": {},
     "output_type": "display_data"
    }
   ],
   "source": [
    "def visualize_predictions(model):\n",
    "    images, labels = next(iter(testloader))\n",
    "    outputs = model(images.to(device))\n",
    "    _, predictions = torch.max(outputs, 1)\n",
    "\n",
    "    fig, axes = plt.subplots(1, 5, figsize=(10,2))\n",
    "    for i in range(5):\n",
    "        img = images[i].numpy().squeeze()\n",
    "        axes[i].imshow(img, cmap=\"gray\")\n",
    "        axes[i].set_title(f'Pred: {predictions[i].item()}')\n",
    "        axes[i].axis('off')\n",
    "    plt.show()\n",
    "\n",
    "visualize_predictions(model1)\n",
    "visualize_predictions(model2)"
   ]
  },
  {
   "cell_type": "markdown",
   "metadata": {},
   "source": [
    "### **Visualizing Training Performance**  \n",
    "\n",
    "This code generates **two plots** to analyze how the model improves during training over multiple epochs.  \n",
    "\n",
    "- **`plt.figure(figsize=(12, 5))`**: Creates a figure with a **width of 12 and height of 5**, providing enough space for two subplots.  \n",
    "\n",
    "#### **Training Loss Plot**  \n",
    "- **`plt.subplot(1, 2, 1)`**: Defines the first subplot (1 row, 2 columns, first plot).  \n",
    "- **`plt.plot(range(1, num_epochs + 1), train_losses, marker='o', linestyle='-', color='b')`**:  \n",
    "  - X-axis: **Epoch numbers (1 to `num_epochs`)**  \n",
    "  - Y-axis: **Training loss values**  \n",
    "  - **Marker `'o'`**: Marks each epoch point.  \n",
    "  - **Line `'b'` (blue)**: Connects loss values for better visualization.  \n",
    "- **`plt.xlabel('Epoch') / plt.ylabel('Loss')`**: Labels the X and Y axes.  \n",
    "- **`plt.title('Training Loss Over Epochs')`**: Adds a title to the loss plot.  \n",
    "\n",
    "#### **Training Accuracy Plot**  \n",
    "- **`plt.subplot(1, 2, 2)`**: Defines the second subplot (same row, second plot).  \n",
    "- **`plt.plot(range(1, num_epochs + 1), train_accuracies, marker='s', linestyle='-', color='g')`**:  \n",
    "  - X-axis: **Epoch numbers**  \n",
    "  - Y-axis: **Training accuracy (%)**  \n",
    "  - **Marker `'s'` (square)**: Marks each epoch point.  \n",
    "  - **Line `'g'` (green)**: Shows accuracy trend over epochs.  \n",
    "- **`plt.xlabel('Epoch') / plt.ylabel('Accuracy (%)')`**: Labels the axes.  \n",
    "- **`plt.title('Training Accuracy Over Epochs')`**: Adds a title to the accuracy plot.  \n",
    "\n",
    "#### **Displaying the Plots**  \n",
    "- **`plt.show()`**: Renders the figure with both plots.  \n",
    "\n",
    "These plots help visualize **how the model's loss decreases and accuracy improves over time**, giving insight into **training effectiveness** and potential **overfitting**. 🚀  \n"
   ]
  },
  {
   "cell_type": "code",
   "execution_count": 40,
   "metadata": {},
   "outputs": [
    {
     "data": {
      "image/png": "[encoded data removed]",
      "text/plain": [
       "<Figure size 2400x1200 with 6 Axes>"
      ]
     },
     "metadata": {},
     "output_type": "display_data"
    }
   ],
   "source": [
    "def plot_results_side_by_side(model_results, model_names):\n",
    "    num_models = len(model_results)\n",
    "    num_epochs = len(model_results[0][0])\n",
    "    epochs = np.arange(1, num_epochs + 1)\n",
    "\n",
    "    fig, axs = plt.subplots(3, num_models, figsize=(12 * num_models, 12))\n",
    "    fig.subplots_adjust(hspace=0.4, wspace=0.3)\n",
    "\n",
    "    for i, (train_losses, val_losses, train_accuracies, val_accuracies) in enumerate(model_results):\n",
    "        model_name = model_names[i]\n",
    "\n",
    "        df = pd.DataFrame({\n",
    "            'Epoch': epochs,\n",
    "            'Train Loss': train_losses,\n",
    "            'Val Loss': val_losses,\n",
    "            'Train Acc (%)': train_accuracies,\n",
    "            'Val Acc (%)': val_accuracies\n",
    "        })\n",
    "\n",
    "        # Plot Loss\n",
    "        ax_loss = axs[0, i] if num_models > 1 else axs[0]\n",
    "        ax_loss.plot(epochs, train_losses, marker='o', linestyle='-', color='b', label='Train Loss')\n",
    "        ax_loss.plot(epochs, val_losses, marker='o', linestyle='--', color='r', label='Val Loss')\n",
    "        ax_loss.set_xlabel('Epoch')\n",
    "        ax_loss.set_ylabel('Loss')\n",
    "        ax_loss.set_title(f'{model_name}: Loss Over Epochs')\n",
    "        ax_loss.legend()\n",
    "\n",
    "        # Plot Accuracy\n",
    "        ax_acc = axs[1, i] if num_models > 1 else axs[1]\n",
    "        ax_acc.plot(epochs, train_accuracies, marker='s', linestyle='-', color='g', label='Train Acc')\n",
    "        ax_acc.plot(epochs, val_accuracies, marker='s', linestyle='--', color='orange', label='Val Acc')\n",
    "        ax_acc.set_xlabel('Epoch')\n",
    "        ax_acc.set_ylabel('Accuracy (%)')\n",
    "        ax_acc.set_title(f'{model_name}: Accuracy Over Epochs')\n",
    "        ax_acc.legend()\n",
    "\n",
    "        # Display Table\n",
    "        ax_table = axs[2, i] if num_models > 1 else axs[2]\n",
    "        ax_table.axis('tight')\n",
    "        ax_table.axis('off')\n",
    "        ax_table.table(cellText=df.values, colLabels=df.columns, cellLoc='center', loc='center')\n",
    "\n",
    "    plt.show()\n",
    "\n",
    "# Provide your model results as lists of metrics\n",
    "model_results = [\n",
    "    (train_losses_1, val_losses_1, train_accs_1, val_accs_1),\n",
    "    (train_losses_2, val_losses_2, train_accs_2, val_accs_2)\n",
    "]\n",
    "\n",
    "model_names = [\"Model 1\", \"Model 2\"]\n",
    "\n",
    "plot_results_side_by_side(model_results, model_names)\n"
   ]
  },
  {
   "cell_type": "markdown",
   "metadata": {},
   "source": [
    "## **Comparison**\n",
    "---\n",
    "When comparing it to <a href=\"https://github.com/jupyterlab/jupyter-ai\">this</a> tutorial"
   ]
  },
  {
   "cell_type": "markdown",
   "metadata": {},
   "source": [
    "## **References** <a class=\"anchor\" id=\"references\"></a>\n",
    "---"
   ]
  },
  {
   "cell_type": "markdown",
   "metadata": {},
   "source": [
    "- Yasar. K., 2022. PyTorch. [online] Available at: &lt;https://www.techtarget.com/searchenterpriseai/definition/PyTorch&gt; [Accessed 14 March 2025].\n",
    "- Prakriti, 2024. torch.nn Module in PyTorch. [online] Available at: &lt;https://www.naukri.com/code360/library/torch-nn-module-in-pytorch&gt; [Accessed 14 March 2025].\n",
    "- https://pytorch.org/docs/stable/optim.html\n",
    "- https://medium.com/the-modern-scientist/exploring-torchvision-a-powerful-toolkit-for-computer-vision-cb11f7e2e271\n",
    "- https://pytorch.org/vision/main/transforms.html#:~:text=Torchvision%20supports%20common%20computer%20vision,%2C%20segmentation%2C%20video%20classification.\n",
    "- https://matplotlib.org/\n",
    "- https://numpy.org/doc/2.2/user/whatisnumpy.html\n",
    "- https://www.sciencedirect.com/topics/engineering/convolutional-layer#:~:text=3.1.-,1%20Convolutional%20layer,channels%20of%20the%20convolution%20layer.\n",
    "- https://www.dremio.com/wiki/pooling-layers/#:~:text=What%20is%20the%20role%20of,Average%20Pooling%2C%20and%20Sum%20Pooling.\n",
    "- https://www.datacamp.com/tutorial/introduction-to-activation-functions-in-neural-networks\n",
    "- https://www.geeksforgeeks.org/fully-connected-layer-vs-convolutional-layer/\n",
    "- https://nn.readthedocs.io/en/rtd/criterion/#:~:text=Criterions%20are%20helpful%20to%20train,Criterions%20are%20serializable.\n",
    "- https://www.w3schools.com/python/pandas/pandas_intro.asp\n",
    "- https://medium.com/nerd-for-tech/optimizers-in-machine-learning-f1a9c549f8b4"
   ]
  },
  {
   "cell_type": "markdown",
   "metadata": {},
   "source": [
    "## **Bibliography** <a class=\"anchor\" id=\"bibliography\"></a>\n",
    "---"
   ]
  },
  {
   "cell_type": "markdown",
   "metadata": {},
   "source": []
  }
 ],
 "metadata": {
  "kernelspec": {
   "display_name": "Python 3 (ipykernel)",
   "language": "python",
   "name": "python3"
  },
  "language_info": {
   "codemirror_mode": {
    "name": "ipython",
    "version": 3
   },
   "file_extension": ".py",
   "mimetype": "text/x-python",
   "name": "python",
   "nbconvert_exporter": "python",
   "pygments_lexer": "ipython3",
   "version": "3.13.1"
  }
 },
 "nbformat": 4,
 "nbformat_minor": 4
}
