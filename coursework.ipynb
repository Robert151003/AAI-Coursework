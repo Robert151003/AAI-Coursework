{
 "cells": [
  {
   "cell_type": "markdown",
   "metadata": {},
   "source": [
    "**Coursework Breakdown - Delete**"
   ]
  },
  {
   "cell_type": "markdown",
   "metadata": {},
   "source": [
    "\n",
    "**Objective**\n",
    "\n",
    "You will prepare a tutorial in which you showcase the Jupyter Notebook capabilities in demonstrating a machine learning pipeline of your choice. You are\n",
    "encouraged to look up for online tutorials to use as examples, but you need to\n",
    "develop your own pipeline. The final aim is to create an example of developing\n",
    "an AI system that can be showcased online and can be used as part of your\n",
    "portfolio in job applications.\n",
    "\n",
    "**Must Include**\n",
    "1. A clear title that illustrates the topic of the tutorial. - ✅\n",
    "2. An abstract of 80 to 100 words that summarises the content. - ✅\n",
    "3. A list of learning objectives that will be achieved by following this tutorial. - ✅\n",
    "4. A table of content. - ✅\n",
    "6. At least the following libraries: Pytorch, Matplotlib, Numpy. - ✅\n",
    "7. Use of markup. - ✅\n",
    "9. Use one dataset, e.g., the MNIST - ✅\n",
    "10. A training process for a machine learning algorithm, e.g., the optimization\n",
    "of a neural model. - ✅\n",
    "11. How different configurations of hyper-parameters affects the results.  - ✅\n",
    "12. Results with both graphs and tables. - ✅\n",
    "5. Differences with pros and cons in relation to cited sources of similar online\n",
    "tutorials.\n",
    "8. Clear identification of sources to avoid plagiarism.\n",
    "13. A list of references at the end.\n",
    "14. A reading time of 10 to 15 minutes.\n",
    "\n",
    "**Marking Scheme**\n",
    "\n",
    "Marks will be awarded according to the following criteria:\n",
    "\n",
    "• Completeness: Does the tutorial cover all required components (e.g.,\n",
    "abstract, objectives, dataset, training process, results, references, etc.)?\n",
    "[25%]\n",
    "\n",
    "• Clarity and code quality: Are the explanations logically structured and\n",
    "easy to follow? Do they enhance the learning experience? Is the Jupyter\n",
    "Notebook code well-structured, efficient, and properly documented? Does\n",
    "it execute correctly? [25%]\n",
    "\n",
    "• Presentation quality and professional elements: : Are graphs, tables, and markdown explanations clear and informative? Do they enhance\n",
    "the tutorial’s readability? [25%]\n",
    "\n",
    "• Originality and critical thinking: Does the tutorial show a unique\n",
    "perspective, creativity, or novel insights beyond existing tutorials? Does\n",
    "it critically compare different techniques? [25%]\n"
   ]
  },
  {
   "cell_type": "markdown",
   "metadata": {},
   "source": [
    "# **Handwritten Digit Recognition with PyTorch: A CNN Approach**"
   ]
  },
  {
   "cell_type": "markdown",
   "metadata": {},
   "source": [
    "## **Abstract**"
   ]
  },
  {
   "cell_type": "markdown",
   "metadata": {},
   "source": [
    "This project demonstrates the capabilities of Jupyter Notebook by developing a machine learning (ML) pipeline for Optical Character Recognition (OCR). The pipeline takes an image as input, processes it using pre-processing techniques, and extracts the text within it, providing users with a readable and copyable output. It utilises libraries such as [input libraries] to achieve this, resulting in accurate and efficient text extraction. This showcases Jupyter Notebook’s effectiveness in building and executing ML workflows for real-world applications."
   ]
  },
  {
   "cell_type": "markdown",
   "metadata": {},
   "source": [
    "## **Contents**\n"
   ]
  },
  {
   "cell_type": "markdown",
   "metadata": {},
   "source": [
    "* [Learning Objectives](#learning-objectives)\n",
    "* [Required Imports](#required-imports)\n",
    "* [Neural Network Algorithm](#nna)\n",
    "* [How Hyper-Parameters Affect the Model](#hyper-parameters)\n",
    "* [Results](#results)\n",
    "* [References](#references)"
   ]
  },
  {
   "cell_type": "markdown",
   "metadata": {},
   "source": [
    "## **Learning Objectives** <a class=\"anchor\" id=\"learning-objectives\"></a>"
   ]
  },
  {
   "cell_type": "markdown",
   "metadata": {},
   "source": [
    "* Learn to structure an AI workflow in Jupyter Notebook for better readability and reproducibility\n",
    "* Learn how to set up a machine learning environment - import necessary libraries and understand what they do\n",
    "* Learn how to load an pre-process data\n",
    "* Build a Convolutional Neural Network (CNN), and understand what each layer does\n",
    "* Train a Neural Network - different techniques used to improve the performance of the model (backpropagation)\n",
    "* Learn how to effectively evaluate, visualise and showcase a models performance\n",
    "* Learn the effect each hyperparameter has, and how to tune them correctly"
   ]
  },
  {
   "cell_type": "markdown",
   "metadata": {},
   "source": [
    "## **Required Imports** <a class=\"anchor\" id=\"required-imports\"></a>"
   ]
  },
  {
   "cell_type": "code",
   "execution_count": 62,
   "metadata": {},
   "outputs": [
    {
     "name": "stdout",
     "output_type": "stream",
     "text": [
      "Requirement already satisfied: torch in c:\\users\\robert\\desktop\\pythonaimodel\\.conda\\lib\\site-packages (2.6.0)\n",
      "Requirement already satisfied: torchvision in c:\\users\\robert\\desktop\\pythonaimodel\\.conda\\lib\\site-packages (0.21.0)\n",
      "Requirement already satisfied: numpy in c:\\users\\robert\\desktop\\pythonaimodel\\.conda\\lib\\site-packages (2.0.2)\n",
      "Requirement already satisfied: matplotlib in c:\\users\\robert\\desktop\\pythonaimodel\\.conda\\lib\\site-packages (3.10.1)\n",
      "Requirement already satisfied: opencv-python in c:\\users\\robert\\desktop\\pythonaimodel\\.conda\\lib\\site-packages (4.11.0.86)\n",
      "Requirement already satisfied: pytesseract in c:\\users\\robert\\desktop\\pythonaimodel\\.conda\\lib\\site-packages (0.3.13)\n",
      "Collecting pandas\n",
      "  Downloading pandas-2.2.3-cp310-cp310-win_amd64.whl.metadata (19 kB)\n",
      "Requirement already satisfied: filelock in c:\\users\\robert\\desktop\\pythonaimodel\\.conda\\lib\\site-packages (from torch) (3.17.0)\n",
      "Requirement already satisfied: typing-extensions>=4.10.0 in c:\\users\\robert\\desktop\\pythonaimodel\\.conda\\lib\\site-packages (from torch) (4.12.2)\n",
      "Requirement already satisfied: networkx in c:\\users\\robert\\desktop\\pythonaimodel\\.conda\\lib\\site-packages (from torch) (3.4.2)\n",
      "Requirement already satisfied: jinja2 in c:\\users\\robert\\desktop\\pythonaimodel\\.conda\\lib\\site-packages (from torch) (3.1.5)\n",
      "Requirement already satisfied: fsspec in c:\\users\\robert\\desktop\\pythonaimodel\\.conda\\lib\\site-packages (from torch) (2025.2.0)\n",
      "Requirement already satisfied: sympy==1.13.1 in c:\\users\\robert\\desktop\\pythonaimodel\\.conda\\lib\\site-packages (from torch) (1.13.1)\n",
      "Requirement already satisfied: mpmath<1.4,>=1.1.0 in c:\\users\\robert\\desktop\\pythonaimodel\\.conda\\lib\\site-packages (from sympy==1.13.1->torch) (1.3.0)\n",
      "Requirement already satisfied: pillow!=8.3.*,>=5.3.0 in c:\\users\\robert\\desktop\\pythonaimodel\\.conda\\lib\\site-packages (from torchvision) (11.1.0)\n",
      "Requirement already satisfied: contourpy>=1.0.1 in c:\\users\\robert\\desktop\\pythonaimodel\\.conda\\lib\\site-packages (from matplotlib) (1.3.1)\n",
      "Requirement already satisfied: cycler>=0.10 in c:\\users\\robert\\desktop\\pythonaimodel\\.conda\\lib\\site-packages (from matplotlib) (0.12.1)\n",
      "Requirement already satisfied: fonttools>=4.22.0 in c:\\users\\robert\\desktop\\pythonaimodel\\.conda\\lib\\site-packages (from matplotlib) (4.56.0)\n",
      "Requirement already satisfied: kiwisolver>=1.3.1 in c:\\users\\robert\\desktop\\pythonaimodel\\.conda\\lib\\site-packages (from matplotlib) (1.4.8)\n",
      "Requirement already satisfied: packaging>=20.0 in c:\\users\\robert\\desktop\\pythonaimodel\\.conda\\lib\\site-packages (from matplotlib) (24.2)\n",
      "Requirement already satisfied: pyparsing>=2.3.1 in c:\\users\\robert\\desktop\\pythonaimodel\\.conda\\lib\\site-packages (from matplotlib) (3.2.1)\n",
      "Requirement already satisfied: python-dateutil>=2.7 in c:\\users\\robert\\desktop\\pythonaimodel\\.conda\\lib\\site-packages (from matplotlib) (2.9.0.post0)\n",
      "Collecting pytz>=2020.1 (from pandas)\n",
      "  Downloading pytz-2025.1-py2.py3-none-any.whl.metadata (22 kB)\n",
      "Collecting tzdata>=2022.7 (from pandas)\n",
      "  Downloading tzdata-2025.1-py2.py3-none-any.whl.metadata (1.4 kB)\n",
      "Requirement already satisfied: six>=1.5 in c:\\users\\robert\\desktop\\pythonaimodel\\.conda\\lib\\site-packages (from python-dateutil>=2.7->matplotlib) (1.17.0)\n",
      "Requirement already satisfied: MarkupSafe>=2.0 in c:\\users\\robert\\desktop\\pythonaimodel\\.conda\\lib\\site-packages (from jinja2->torch) (3.0.2)\n",
      "Downloading pandas-2.2.3-cp310-cp310-win_amd64.whl (11.6 MB)\n",
      "   ---------------------------------------- 0.0/11.6 MB ? eta -:--:--\n",
      "   --- ------------------------------------ 1.0/11.6 MB 6.3 MB/s eta 0:00:02\n",
      "   ---------- ----------------------------- 3.1/11.6 MB 7.7 MB/s eta 0:00:02\n",
      "   ------------------ --------------------- 5.5/11.6 MB 8.8 MB/s eta 0:00:01\n",
      "   --------------------------- ------------ 7.9/11.6 MB 9.5 MB/s eta 0:00:01\n",
      "   ------------------------------------ --- 10.5/11.6 MB 10.1 MB/s eta 0:00:01\n",
      "   ---------------------------------------- 11.6/11.6 MB 9.9 MB/s eta 0:00:00\n",
      "Downloading pytz-2025.1-py2.py3-none-any.whl (507 kB)\n",
      "Downloading tzdata-2025.1-py2.py3-none-any.whl (346 kB)\n",
      "Installing collected packages: pytz, tzdata, pandas\n",
      "Successfully installed pandas-2.2.3 pytz-2025.1 tzdata-2025.1\n",
      "Note: you may need to restart the kernel to use updated packages.\n"
     ]
    }
   ],
   "source": [
    "%pip install torch torchvision numpy matplotlib opencv-python pytesseract pandas"
   ]
  },
  {
   "cell_type": "code",
   "execution_count": 86,
   "metadata": {},
   "outputs": [],
   "source": [
    "import torch\n",
    "import torch.nn as nn\n",
    "import torch.optim as optim\n",
    "import torchvision\n",
    "import torchvision.transforms as transforms\n",
    "import matplotlib.pyplot as plt\n",
    "import numpy as np\n"
   ]
  },
  {
   "cell_type": "markdown",
   "metadata": {},
   "source": [
    "## **Neural Network Algorithm** <a class=\"anchor\" id=\"nna\"></a>"
   ]
  },
  {
   "cell_type": "code",
   "execution_count": 87,
   "metadata": {},
   "outputs": [
    {
     "name": "stderr",
     "output_type": "stream",
     "text": [
      "100%|██████████| 9.91M/9.91M [00:01<00:00, 7.53MB/s]\n",
      "100%|██████████| 28.9k/28.9k [00:00<00:00, 277kB/s]\n",
      "100%|██████████| 1.65M/1.65M [00:00<00:00, 2.36MB/s]\n",
      "100%|██████████| 4.54k/4.54k [00:00<00:00, 4.55MB/s]"
     ]
    },
    {
     "name": "stdout",
     "output_type": "stream",
     "text": [
      "Train set: 60000, Test set: 10000\n"
     ]
    },
    {
     "name": "stderr",
     "output_type": "stream",
     "text": [
      "\n"
     ]
    }
   ],
   "source": [
    "# Define transformations\n",
    "transform = transforms.Compose([transforms.ToTensor(), transforms.Normalize((0.5,), (0.5,))])\n",
    "\n",
    "# Load MNIST dataset\n",
    "trainset = torchvision.datasets.MNIST(root='./data', train=True, download=True, transform=transform)\n",
    "testset = torchvision.datasets.MNIST(root='./data', train=False, download=True, transform=transform)\n",
    "\n",
    "# Define data loaders\n",
    "trainloader = torch.utils.data.DataLoader(trainset, batch_size=64, shuffle=True)\n",
    "testloader = torch.utils.data.DataLoader(testset, batch_size=64, shuffle=False)\n",
    "\n",
    "# Check dataset size\n",
    "print(f\"Train set: {len(trainset)}, Test set: {len(testset)}\")\n"
   ]
  },
  {
   "cell_type": "code",
   "execution_count": 99,
   "metadata": {},
   "outputs": [],
   "source": [
    "class CNN(nn.Module):\n",
    "    def __init__(self):\n",
    "        super(CNN, self).__init__()\n",
    "        self.conv1 = nn.Conv2d(1, 32, kernel_size=3, padding=1)\n",
    "        self.conv2 = nn.Conv2d(32, 64, kernel_size=3, padding=1)\n",
    "        self.pool = nn.MaxPool2d(kernel_size=2, stride=2)\n",
    "        # Calculate the correct input size for fc1\n",
    "        # After two pooling layers, the image size is reduced to 7x7\n",
    "        # With 64 channels, the flattened size is 64 * 7 * 7 = 3136\n",
    "        self.fc1 = nn.Linear(64 * 7 * 7, 128)\n",
    "        self.fc2 = nn.Linear(128, 10)\n",
    "        self.relu = nn.ReLU()\n",
    "\n",
    "    def forward(self, x):\n",
    "        x = self.pool(self.relu(self.conv1(x)))\n",
    "        x = self.pool(self.relu(self.conv2(x)))\n",
    "        x = x.view(x.size(0), -1)  # Flatten\n",
    "        x = self.relu(self.fc1(x))\n",
    "        x = self.fc2(x)\n",
    "        return x\n",
    "\n",
    "# Initialize model\n",
    "model = CNN()\n"
   ]
  },
  {
   "cell_type": "code",
   "execution_count": 100,
   "metadata": {},
   "outputs": [],
   "source": [
    "criterion = nn.CrossEntropyLoss()\n",
    "optimizer = optim.Adam(model.parameters(), lr=0.001)\n"
   ]
  },
  {
   "cell_type": "code",
   "execution_count": null,
   "metadata": {},
   "outputs": [
    {
     "name": "stdout",
     "output_type": "stream",
     "text": [
      "Epoch 1/5 - Loss: 0.0085, Accuracy: 99.71%\n",
      "Epoch 2/5 - Loss: 0.0087, Accuracy: 99.72%\n",
      "Epoch 3/5 - Loss: 0.0072, Accuracy: 99.76%\n",
      "Epoch 4/5 - Loss: 0.0056, Accuracy: 99.82%\n",
      "Epoch 5/5 - Loss: 0.0059, Accuracy: 99.81%\n",
      "Training complete.\n"
     ]
    }
   ],
   "source": [
    "num_epochs = 10  # Increased epochs for better learning\n",
    "device = torch.device(\"cuda\" if torch.cuda.is_available() else \"cpu\")\n",
    "model.to(device)\n",
    "\n",
    "# Lists to store training & validation statistics\n",
    "train_losses, val_losses = [], []\n",
    "train_accuracies, val_accuracies = []\n",
    "best_val_acc = 0.0\n",
    "\n",
    "for epoch in range(num_epochs):\n",
    "    model.train()  # Set model to training mode\n",
    "    running_loss = 0.0\n",
    "    correct, total = 0, 0\n",
    "\n",
    "    for images, labels in trainloader:\n",
    "        images, labels = images.to(device), labels.to(device)\n",
    "\n",
    "        optimizer.zero_grad()\n",
    "        outputs = model(images)\n",
    "        loss = criterion(outputs, labels)\n",
    "        loss.backward()\n",
    "        optimizer.step()\n",
    "\n",
    "        running_loss += loss.item()\n",
    "        _, predicted = torch.max(outputs, 1)\n",
    "        total += labels.size(0)\n",
    "        correct += (predicted == labels).sum().item()\n",
    "\n",
    "    # Calculate training loss & accuracy\n",
    "    epoch_loss = running_loss / len(trainloader)\n",
    "    epoch_acc = 100 * correct / total\n",
    "    train_losses.append(epoch_loss)\n",
    "    train_accuracies.append(epoch_acc)\n",
    "\n",
    "    # **Validation Phase**\n",
    "    model.eval()  # Set model to evaluation mode\n",
    "    val_loss, val_correct, val_total = 0.0, 0, 0\n",
    "\n",
    "    with torch.no_grad():\n",
    "        for images, labels in testloader:\n",
    "            images, labels = images.to(device), labels.to(device)\n",
    "            outputs = model(images)\n",
    "            loss = criterion(outputs, labels)\n",
    "\n",
    "            val_loss += loss.item()\n",
    "            _, predicted = torch.max(outputs, 1)\n",
    "            val_total += labels.size(0)\n",
    "            val_correct += (predicted == labels).sum().item()\n",
    "\n",
    "    val_loss /= len(testloader)\n",
    "    val_acc = 100 * val_correct / val_total\n",
    "    val_losses.append(val_loss)\n",
    "    val_accuracies.append(val_acc)\n",
    "\n",
    "    # Save best model\n",
    "    if val_acc > best_val_acc:\n",
    "        best_val_acc = val_acc\n",
    "        torch.save(model.state_dict(), \"best_model.pth\")\n",
    "\n",
    "    print(f\"Epoch {epoch+1}/{num_epochs} - \"\n",
    "          f\"Train Loss: {epoch_loss:.4f}, Train Acc: {epoch_acc:.2f}% | \"\n",
    "          f\"Val Loss: {val_loss:.4f}, Val Acc: {val_acc:.2f}%\")\n",
    "\n",
    "print(\"Training complete. Best Validation Accuracy: {:.2f}%\".format(best_val_acc))"
   ]
  },
  {
   "cell_type": "markdown",
   "metadata": {},
   "source": [
    "## **How Hyper-Parameters Affect the Model** <a class=\"anchor\" id=\"hyper-parameters\"></a>"
   ]
  },
  {
   "cell_type": "markdown",
   "metadata": {},
   "source": [
    "1. Batch Size:\n",
    "    What it does? - Determines how many samples are passed to the model at a time during training.\n",
    "    Effects:\n",
    "        Larger => Faster Training, but will result in worse diverse results.\n",
    "        Smaller => Slower Training, but will result in better results.\n",
    "\n",
    "2. Shuffle:\n",
    "    What it does? - Randomly shuffles the dataset before each epoch.\n",
    "    Effects:\n",
    "        True => Default for training. Helps the model generalise better by preventing it from memorising data order.\n",
    "        False => Ensures evaluation is done on the same ordered dataset.\n",
    "\n",
    "3. Normalisation:\n",
    "    What it does? - Normalises pixel values to a range between two points.\n",
    "    Effect: Improves the convergence making training on the data more stable. If not normalised well, can result in less efficient learning or poor performance.\n",
    "\n",
    "4. Number of Filters:\n",
    "    What it does? - Defines the number of convolutional kernels that can detect patterns.\n",
    "    Effects:\n",
    "        More => Longer computation but better feature detection.\n",
    "        Less => Faster training times, but less effective feature detection.\n",
    "\n",
    "5. Kernel Size:\n",
    "    What it does? - Size of the filter that scans the image.\n",
    "    Effect: \n",
    "        Larger => Captures larger patterns but may miss the smaller details.\n",
    "        Smaller => Preserves the fine details but results in longer training times.\n",
    "\n",
    "6. Padding:\n",
    "    What it does? - Adds extra pixels to maintain spatial dimensions.\n",
    "    Effect: Keeps the output size the same to prevent information loss\n",
    "\n",
    "7. Pooling Size:\n",
    "    What it does? - Reduces dimensions while preserving important features.\n",
    "    Effect: \n",
    "        Larger => Reduces size more, but may remove details.\n",
    "        Smaller => Reduces size but will keep some key details\n",
    "\n",
    "8. Stride:\n",
    "    What it does? - Determines how far the filter moves each step.\n",
    "    Effect: Keeps output size the same and prevents information loss\n",
    "\n",
    "9. Fully Connected Layer Size:\n",
    "    What it does? - Number of neurons in the dense layer.\n",
    "    Effect:\n",
    "        More => Allows the model to capture more complex features, but results in larger training times.\n",
    "\n",
    "10. Activation Function:\n",
    "    What it does? - Introduces non-linearity.\n",
    "    Effect: Speeds up training times and prevents vanishing gradients.\n",
    "\n",
    "11. Learninig Rate:\n",
    "    What it does? - \n",
    "    Effect: \n",
    "        Lower => Slower training but more stable\n",
    "        Higher => Faster training but risk of overfitting\n",
    "\n",
    "12. Epochs:\n",
    "    What it does? - Determines the number of times the model trains on the dataset.\n",
    "    Effect: More epochs allows deeper learning, but may cause overfitting.\n",
    "\n",
    "13. Optimiser:\n",
    "    What it does? - \n",
    "    Effect: By using Adam instead of ..."
   ]
  },
  {
   "cell_type": "markdown",
   "metadata": {},
   "source": [
    "## **Results** <a class=\"anchor\" id=\"results\"></a>"
   ]
  },
  {
   "cell_type": "code",
   "execution_count": 106,
   "metadata": {},
   "outputs": [
    {
     "name": "stdout",
     "output_type": "stream",
     "text": [
      "Accuracy on test set: 99.15%\n"
     ]
    }
   ],
   "source": [
    "correct = 0\n",
    "total = 0\n",
    "model.eval()\n",
    "\n",
    "with torch.no_grad():\n",
    "    for images, labels in testloader:\n",
    "        images, labels = images.to(device), labels.to(device)\n",
    "        outputs = model(images)\n",
    "        _, predicted = torch.max(outputs, 1)\n",
    "        total += labels.size(0)\n",
    "        correct += (predicted == labels).sum().item()\n",
    "\n",
    "accuracy = 100 * correct / total\n",
    "print(f'Accuracy on test set: {accuracy:.2f}%')\n"
   ]
  },
  {
   "cell_type": "code",
   "execution_count": 107,
   "metadata": {},
   "outputs": [
    {
     "data": {
      "image/png": "[encoded data removed]",
      "text/plain": [
       "<Figure size 1000x200 with 5 Axes>"
      ]
     },
     "metadata": {},
     "output_type": "display_data"
    }
   ],
   "source": [
    "# Function to display an image and prediction\n",
    "def visualize_predictions():\n",
    "    images, labels = next(iter(testloader))\n",
    "    outputs = model(images.to(device))\n",
    "    _, predictions = torch.max(outputs, 1)\n",
    "\n",
    "    fig, axes = plt.subplots(1, 5, figsize=(10,2))\n",
    "    for i in range(5):\n",
    "        img = images[i].numpy().squeeze()\n",
    "        axes[i].imshow(img, cmap=\"gray\")\n",
    "        axes[i].set_title(f'Pred: {predictions[i].item()}')\n",
    "        axes[i].axis('off')\n",
    "    plt.show()\n",
    "\n",
    "visualize_predictions()\n"
   ]
  },
  {
   "cell_type": "code",
   "execution_count": 108,
   "metadata": {},
   "outputs": [
    {
     "data": {
      "image/png": "[encoded data removed]",
      "text/plain": [
       "<Figure size 1200x500 with 2 Axes>"
      ]
     },
     "metadata": {},
     "output_type": "display_data"
    }
   ],
   "source": [
    "plt.figure(figsize=(12, 5))\n",
    "\n",
    "plt.subplot(1, 2, 1)\n",
    "plt.plot(range(1, num_epochs + 1), train_losses, marker='o', linestyle='-', color='b')\n",
    "plt.xlabel('Epoch')\n",
    "plt.ylabel('Loss')\n",
    "plt.title('Training Loss Over Epochs')\n",
    "\n",
    "plt.subplot(1, 2, 2)\n",
    "plt.plot(range(1, num_epochs + 1), train_accuracies, marker='s', linestyle='-', color='g')\n",
    "plt.xlabel('Epoch')\n",
    "plt.ylabel('Accuracy (%)')\n",
    "plt.title('Training Accuracy Over Epochs')\n",
    "\n",
    "plt.show()"
   ]
  },
  {
   "cell_type": "markdown",
   "metadata": {},
   "source": [
    "## **References** <a class=\"anchor\" id=\"references\"></a>"
   ]
  },
  {
   "cell_type": "markdown",
   "metadata": {},
   "source": []
  }
 ],
 "metadata": {
  "kernelspec": {
   "display_name": "Python 3",
   "language": "python",
   "name": "python3"
  },
  "language_info": {
   "codemirror_mode": {
    "name": "ipython",
    "version": 3
   },
   "file_extension": ".py",
   "mimetype": "text/x-python",
   "name": "python",
   "nbconvert_exporter": "python",
   "pygments_lexer": "ipython3",
   "version": "3.10.16"
  }
 },
 "nbformat": 4,
 "nbformat_minor": 2
}
