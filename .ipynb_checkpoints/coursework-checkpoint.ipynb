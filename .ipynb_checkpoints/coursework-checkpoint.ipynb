{
 "cells": [
  {
   "cell_type": "markdown",
   "metadata": {},
   "source": [
    "**Coursework Breakdown - Delete**"
   ]
  },
  {
   "cell_type": "markdown",
   "metadata": {},
   "source": [
    "\n",
    "**Objective**\n",
    "\n",
    "You will prepare a tutorial in which you showcase the Jupyter Notebook capabilities in demonstrating a machine learning pipeline of your choice. You are\n",
    "encouraged to look up for online tutorials to use as examples, but you need to\n",
    "develop your own pipeline. The final aim is to create an example of developing\n",
    "an AI system that can be showcased online and can be used as part of your\n",
    "portfolio in job applications.\n",
    "\n",
    "**Must Include**\n",
    "1. A clear title that illustrates the topic of the tutorial. - ✅\n",
    "2. An abstract of 80 to 100 words that summarises the content. - ✅\n",
    "3. A list of learning objectives that will be achieved by following this tutorial. - ✅\n",
    "4. A table of content. - ✅\n",
    "6. At least the following libraries: Pytorch, Matplotlib, Numpy. - ✅\n",
    "7. Use of markup. - ✅\n",
    "8. Clear identification of sources to avoid plagiarism. - ✅\n",
    "9. Use one dataset, e.g., the MNIST - ✅\n",
    "10. A training process for a machine learning algorithm, e.g., the optimization\n",
    "of a neural model. - ✅\n",
    "11. How different configurations of hyper-parameters affects the results.  - ✅\n",
    "12. Results with both graphs and tables. - ✅ -> Need to do tables\n",
    "13. A list of references at the end. - ✅\n",
    "5. Differences with pros and cons in relation to cited sources of similar online\n",
    "tutorials.\n",
    "\n",
    "A short description in the form of a comparison between your tutorial and\n",
    "similar online tutorials (which should be cited). If possible, the\n",
    "comparison should include key differences as well as the pros and cons of\n",
    "each.\n",
    "\n",
    "14. A reading time of 10 to 15 minutes.\n",
    "\n",
    "Due 19th March\n",
    "\n",
    "**Marking Scheme**\n",
    "\n",
    "Marks will be awarded according to the following criteria:\n",
    "\n",
    "• Completeness: Does the tutorial cover all required components (e.g.,\n",
    "abstract, objectives, dataset, training process, results, references, etc.)?\n",
    "[25%]\n",
    "\n",
    "• Clarity and code quality: Are the explanations logically structured and\n",
    "easy to follow? Do they enhance the learning experience? Is the Jupyter\n",
    "Notebook code well-structured, efficient, and properly documented? Does\n",
    "it execute correctly? [25%]\n",
    "\n",
    "• Presentation quality and professional elements: : Are graphs, tables, and markdown explanations clear and informative? Do they enhance\n",
    "the tutorial’s readability? [25%]\n",
    "\n",
    "• Originality and critical thinking: Does the tutorial show a unique\n",
    "perspective, creativity, or novel insights beyond existing tutorials? Does\n",
    "it critically compare different techniques? [25%]\n"
   ]
  },
  {
   "cell_type": "markdown",
   "metadata": {},
   "source": [
    "# **<u>Handwritten Digit Recognition with PyTorch: A CNN Approach</u>**\n"
   ]
  },
  {
   "cell_type": "markdown",
   "metadata": {},
   "source": [
    "## **Abstract**  \n",
    "---\n",
    "\n",
    "This project demonstrates the capabilities of **Jupyter Notebook** by developing a **machine learning (ML) pipeline** for **Optical Character Recognition (OCR)**. The pipeline takes an **image** as input, processes it using **pre-processing techniques**, and extracts the **text** within it, providing users with a readable and copyable output.  \n",
    "\n",
    "It utilizes libraries such as **PyTorch, Torchvision, Matplotlib and NumPy** to achieve accurate and efficient text extraction. This project highlights Jupyter Notebook’s effectiveness in building and executing **ML workflows** for real-world applications.  \n"
   ]
  },
  {
   "cell_type": "markdown",
   "metadata": {},
   "source": [
    "## **Contents**  \n",
    "---\n",
    "\n",
    "- [Learning Objectives](#learning-objectives)  \n",
    "- [Required Imports](#required-imports)  \n",
    "- [Neural Network Algorithm](#nna)  \n",
    "- [How Hyper-Parameters Affect the Model](#hyper-parameters)  \n",
    "- [Results](#results)  \n",
    "- [References](#references)\n",
    "- [Bibliography](#bibliography)"
   ]
  },
  {
   "cell_type": "markdown",
   "metadata": {},
   "source": [
    "## **Learning Objectives** <a class=\"anchor\" id=\"learning-objectives\"></a>\n",
    "---\n",
    "\n",
    "- Learn to structure an **AI workflow** in Jupyter Notebook for better readability and reproducibility.  \n",
    "- Understand how to **set up a machine learning environment** – import necessary libraries and learn their functions.  \n",
    "- Learn how to **load and pre-process data** efficiently.  \n",
    "- Build a **Convolutional Neural Network (CNN)** and understand the purpose of each layer.  \n",
    "- Train a **Neural Network** using different techniques to improve performance (e.g., **backpropagation**).  \n",
    "- Learn how to effectively **evaluate, visualize, and present** a model’s performance.  \n",
    "- Understand the **effects of hyperparameters** and how to fine-tune them correctly.  \n"
   ]
  },
  {
   "cell_type": "markdown",
   "metadata": {},
   "source": [
    "## **Required Imports** <a class=\"anchor\" id=\"required-imports\"></a>\n",
    "---"
   ]
  },
  {
   "cell_type": "code",
   "execution_count": 1,
   "metadata": {},
   "outputs": [],
   "source": [
    "import torch\n",
    "import torch.nn as nn\n",
    "import torch.optim as optim\n",
    "import torchvision\n",
    "import torchvision.transforms as transforms\n",
    "import matplotlib.pyplot as plt\n",
    "import numpy as np\n",
    "import pandas as pd"
   ]
  },
  {
   "cell_type": "markdown",
   "metadata": {},
   "source": [
    "- **`torch`** → Core <a href=\"https://pytorch.org/\">PyTorch</a> library used for creating deep neural networks (Yasar, 2022).\n",
    "- **`torch.nn`** → Provides modules used to train and build layers of neural networks (Prakriti, 2024).  \n",
    "- **`torch.optim`** → Contains optimization algorithms such as **SGD, Adam** (PyTorch, n.d).  \n",
    "- **`torchvision`** → Provides multiple tools to support with computer vision tasks (Gomede, 2023).  \n",
    "- **`torchvision.transforms`** → Contains image transformation functions to help with **normalization, resizing, and augmentation** (PyTorch, n.d).\n",
    "- **`matplotlib.pyplot`** → Core <a href=\"https://matplotlib.org/\">matplotlib</a> libary used for **visualizing** data into graphs (matplotlib, n.d).\n",
    "- **`numpy`** → Core <a href=\"https://numpy.org/\">numpy</a> libarary which provides key **numerical functions** for handling arrays (NumPy, n.d).  \n",
    "- **`pandas`** → Core <a href=\"https://pandas.pydata.org/\">pandas</a> libary which provides functions for **analyzing, cleaning, exploring, and manipulating data** (w3schools, n.d).  \n"
   ]
  },
  {
   "cell_type": "markdown",
   "metadata": {},
   "source": [
    "## **Neural Network Algorithm** <a class=\"anchor\" id=\"nna\"></a>\n",
    "---"
   ]
  },
  {
   "cell_type": "markdown",
   "metadata": {},
   "source": [
    "### **Downloading and Preparing the Dataset**\n",
    "\n",
    "The aim of this code is to download and prepare the **MNIST dataset** for the model to train and test on. It does this by first converting the images to **tensors** , and normalising the pixel values to a range between **[-1, 1]**. This ensures that the traninig process of the model is stable. The **training** data - consisting of **60,000** images - and **test** data - consisting of **10,000** images - sets are loaded using **`torchvision.datasets.MNIST`**, to ensure that the data is downloaded if not available. The **dataloaders** are then created. They have a **batch size of 64**, and shuffle the training data so that there is a better generalisation of the results, but keeps the test data unchanged."
   ]
  },
  {
   "cell_type": "code",
   "execution_count": 2,
   "metadata": {},
   "outputs": [
    {
     "name": "stdout",
     "output_type": "stream",
     "text": [
      "Train set: 60000, Test set: 10000\n"
     ]
    }
   ],
   "source": [
    "# Define transformations\n",
    "transform = transforms.Compose([transforms.ToTensor(), transforms.Normalize((0.5,), (0.5,))])\n",
    "\n",
    "# Load MNIST dataset\n",
    "trainset = torchvision.datasets.MNIST(root='./data', train=True, download=True, transform=transform)\n",
    "testset = torchvision.datasets.MNIST(root='./data', train=False, download=True, transform=transform)\n",
    "\n",
    "# Define data loaders\n",
    "trainloader = torch.utils.data.DataLoader(trainset, batch_size=64, shuffle=True)\n",
    "testloader = torch.utils.data.DataLoader(testset, batch_size=64, shuffle=False)\n",
    "\n",
    "# Check dataset size\n",
    "print(f\"Train set: {len(trainset)}, Test set: {len(testset)}\")\n"
   ]
  },
  {
   "cell_type": "markdown",
   "metadata": {},
   "source": [
    "### **The Convolutional Neural Network**\n",
    "This code defines a **Convolutional Neural Network (CNN)** for handwritten digit recognition. The model uses the function provided by the **`PyTorch.nn`** package, and consists of 4 layers: (i) **Convolutional**; (ii) **Pooling**; (iii) **Activation**; (iv) **Fully connected**. The convolutional layer aims to extract key features and patterns from the input data (Deep Learning on Edge Computing Devices, 2022). The pooling layer is responsioble for reducing the spatial dimensions of the input data (dremio, n.d). The activation layer enables the model to recognise and learn complex patterns in the input data (Ali, 2024). The fully connected layer connects all the nodes in one layer to all the nodes in another layer (GeeksForGeeks, 2024). The **`forward()`** function determines the data flow through the CNN, and specifies how the input data moves through each of these layers."
   ]
  },
  {
   "cell_type": "code",
   "execution_count": 3,
   "metadata": {},
   "outputs": [],
   "source": [
    "class CNN(nn.Module):\n",
    "    def __init__(self):\n",
    "        super(CNN, self).__init__()\n",
    "        self.conv1 = nn.Conv2d(1, 32, kernel_size=3, padding=1)\n",
    "        self.conv2 = nn.Conv2d(32, 64, kernel_size=3, padding=1)\n",
    "        self.pool = nn.MaxPool2d(kernel_size=2, stride=2)\n",
    "        self.fc1 = nn.Linear(64 * 7 * 7, 128)\n",
    "        self.fc2 = nn.Linear(128, 10)\n",
    "        self.relu = nn.ReLU()\n",
    "\n",
    "    def forward(self, x):\n",
    "        x = self.pool(self.relu(self.conv1(x)))\n",
    "        x = self.pool(self.relu(self.conv2(x)))\n",
    "        x = x.view(x.size(0), -1)\n",
    "        x = self.relu(self.fc1(x))\n",
    "        x = self.fc2(x)\n",
    "        return x\n",
    "\n",
    "model = CNN()"
   ]
  },
  {
   "cell_type": "markdown",
   "metadata": {},
   "source": [
    "### **The Criterion and Optimiser**\n",
    "\n",
    "The **criterion** and **optimizer** are key components when training this neural network.  \n",
    "\n",
    "- **`criterion = nn.CrossEntropyLoss()`**: This defines the loss function used to measure the error between the predictions and the truth data throught the training process (nn, n.d).\n",
    "\n",
    "- **`optimizer = optim.Adam(model.parameters(), lr=0.001)`**: Aims to improve the model by adjusting the parameters throught the training to minimise the loss function value.\n",
    "\n",
    "The combination of these ensure that the CNNs training process improves its predictions over time.\n"
   ]
  },
  {
   "cell_type": "code",
   "execution_count": 4,
   "metadata": {},
   "outputs": [],
   "source": [
    "criterion = nn.CrossEntropyLoss()\n",
    "optimizer = optim.Adam(model.parameters(), lr=0.001)"
   ]
  },
  {
   "cell_type": "markdown",
   "metadata": {},
   "source": [
    "### **Training**\n",
    "---\n",
    "\n",
    "#### **Training Phase (`model.train()`)**  \n",
    "For each epoch:  \n",
    "1. The model initialises training using `model.train()`.  \n",
    "2. The **running loss and accuracy** are initialized in order to track performance.  \n",
    "3. The loop iterates over **training batches: (`trainloader`)**.  \n",
    "4. **Gradients are reset: (`optimizer.zero_grad()`)**.  \n",
    "5. **The model makes predictions: (`outputs = model(images)`)** and computes the **loss: (`criterion(outputs, labels)`)**.  \n",
    "6. **Backpropagation: (`loss.backward()`)** calculates the gradients, and **optimizer: (`optimizer.step()`)** updates the models weights.  \n",
    "7. **Accuracy is calculated** by comparing predicted labels with the truth values.  \n",
    "\n",
    "After looping through all training batches, the **epoch's average loss and accuracy are computed and stored**.  \n",
    "\n",
    "#### **Validation Phase (`model.eval()`)**  \n",
    "After training, the model begins **evaluation: (`model.eval()`)**.\n",
    "1. The loop iterates over **test batches: (`testloader`)**.\n",
    "2. **Predictions** and **loss** are computed. \n",
    "3. **Validation loss** and **accuracy** are stored for performance tracking.  \n",
    "\n",
    "#### **Saving the Best Model**  \n",
    "- If the **validation accuracy** improves, the **model's state is saved: (`torch.save(model.state_dict(), \"best_model.pth\")`)**, to ensure the best model is saved.  \n"
   ]
  },
  {
   "cell_type": "code",
   "execution_count": 13,
   "metadata": {},
   "outputs": [
    {
     "name": "stdout",
     "output_type": "stream",
     "text": [
      "Epoch 1/1 - Train Loss: 0.0319, Train Acc: 98.97% | Val Loss: 0.0393, Val Acc: 98.70%\n",
      "Training complete. Best Validation Accuracy: 98.70%\n"
     ]
    }
   ],
   "source": [
    "num_epochs = 1  # Increased epochs for better learning\n",
    "device = torch.device(\"cuda\" if torch.cuda.is_available() else \"cpu\")\n",
    "model.to(device)\n",
    "\n",
    "# Initialize NumPy arrays to store training & validation statistics\n",
    "train_losses = np.zeros(num_epochs)\n",
    "val_losses = []\n",
    "train_accuracies = np.zeros(num_epochs)\n",
    "val_accuracies = []\n",
    "best_val_acc = 0.0\n",
    "\n",
    "for epoch in range(num_epochs):\n",
    "    model.train()  # Set model to training mode\n",
    "    running_loss = 0.0\n",
    "    correct, total = 0, 0\n",
    "\n",
    "    for images, labels in trainloader:\n",
    "        images, labels = images.to(device), labels.to(device)\n",
    "\n",
    "        optimizer.zero_grad()\n",
    "        outputs = model(images)\n",
    "        loss = criterion(outputs, labels)\n",
    "        loss.backward()\n",
    "        optimizer.step()\n",
    "\n",
    "        running_loss += loss.item()\n",
    "        _, predicted = torch.max(outputs, 1)\n",
    "        total += labels.size(0)\n",
    "        correct += (predicted == labels).sum().item()\n",
    "\n",
    "    # Calculate training loss & accuracy\n",
    "    train_losses[epoch] = running_loss / len(trainloader)\n",
    "    train_accuracies[epoch] = 100 * correct / total\n",
    "\n",
    "    # Validation Phase\n",
    "    model.eval()\n",
    "    val_loss, val_correct, val_total = 0.0, 0, 0\n",
    "\n",
    "    with torch.no_grad():\n",
    "        for images, labels in testloader:\n",
    "            images, labels = images.to(device), labels.to(device)\n",
    "            outputs = model(images)\n",
    "            loss = criterion(outputs, labels)\n",
    "\n",
    "            val_loss += loss.item()\n",
    "            _, predicted = torch.max(outputs, 1)\n",
    "            val_total += labels.size(0)\n",
    "            val_correct += (predicted == labels).sum().item()\n",
    "\n",
    "    # **Now Append the Values Correctly**\n",
    "    val_losses.append(val_loss / len(testloader))\n",
    "    val_accuracies.append(100 * val_correct / val_total)\n",
    "\n",
    "    # Save best model\n",
    "    if val_accuracies[epoch] > best_val_acc:\n",
    "        best_val_acc = val_accuracies[epoch]\n",
    "        torch.save(model.state_dict(), \"best_model.pth\")\n",
    "\n",
    "    print(f\"Epoch {epoch+1}/{num_epochs} - \"\n",
    "          f\"Train Loss: {train_losses[epoch]:.4f}, Train Acc: {train_accuracies[epoch]:.2f}% | \"\n",
    "          f\"Val Loss: {val_losses[epoch]:.4f}, Val Acc: {val_accuracies[epoch]:.2f}%\")\n",
    "\n",
    "print(\"Training complete. Best Validation Accuracy: {:.2f}%\".format(best_val_acc))\n"
   ]
  },
  {
   "cell_type": "markdown",
   "metadata": {},
   "source": [
    "## **How Hyper-Parameters Affect the Model** <a class=\"anchor\" id=\"hyper-parameters\"></a>\n",
    "\n",
    "---\n",
    "\n",
    "#### 1. Batch Size  \n",
    "**What it does?**  \n",
    "Determines how many samples are passed to the model at a time during training.  \n",
    "\n",
    "**Effects:**  \n",
    "- **Larger** → Faster training but may result in less diverse results.  \n",
    "- **Smaller** → Slower training but often leads to better generalization.  \n",
    "\n",
    "---\n",
    "\n",
    "#### 2. Shuffle  \n",
    "**What it does?**  \n",
    "Randomly shuffles the dataset before each epoch.  \n",
    "\n",
    "**Effects:**  \n",
    "- **True** → Default for training. Helps the model generalize better by preventing it from memorizing data order.  \n",
    "- **False** → Ensures evaluation is done on the same ordered dataset.  \n",
    "\n",
    "---\n",
    "\n",
    "#### 3. Normalisation  \n",
    "**What it does?**  \n",
    "Normalizes pixel values to a range between two points.  \n",
    "\n",
    "**Effect:**  \n",
    "Improves convergence, making training more stable. Poor normalization can lead to inefficient learning and poor performance.  \n",
    "\n",
    "---\n",
    "\n",
    "#### 4. Number of Filters  \n",
    "**What it does?**  \n",
    "Defines the number of convolutional kernels that detect patterns.  \n",
    "\n",
    "**Effects:**  \n",
    "- **More** → Longer computation but better feature detection.  \n",
    "- **Less** → Faster training but less effective feature detection.  \n",
    "\n",
    "---\n",
    "\n",
    "#### 5. Kernel Size  \n",
    "**What it does?**  \n",
    "Size of the filter that scans the image.  \n",
    "\n",
    "**Effects:**  \n",
    "- **Larger** → Captures bigger patterns but may miss finer details.  \n",
    "- **Smaller** → Preserves fine details but results in longer training times.  \n",
    "\n",
    "---\n",
    "\n",
    "#### 6. Padding  \n",
    "**What it does?**  \n",
    "Adds extra pixels to maintain spatial dimensions.  \n",
    "\n",
    "**Effect:**  \n",
    "Prevents information loss by keeping the output size the same.  \n",
    "\n",
    "---\n",
    "\n",
    "#### 7. Pooling Size  \n",
    "**What it does?**  \n",
    "Reduces dimensions while preserving important features.  \n",
    "\n",
    "**Effects:**  \n",
    "- **Larger** → Reduces size significantly but may remove details.  \n",
    "- **Smaller** → Retains more details but with less reduction.  \n",
    "\n",
    "---\n",
    "\n",
    "#### 8. Stride  \n",
    "**What it does?**  \n",
    "Determines how far the filter moves at each step.  \n",
    "\n",
    "**Effect:**  \n",
    "Affects the output size and information retention.  \n",
    "\n",
    "---\n",
    "\n",
    "#### 9. Fully Connected Layer Size  \n",
    "**What it does?**  \n",
    "Defines the number of neurons in the dense layer.  \n",
    "\n",
    "**Effects:**  \n",
    "- **More** → Captures complex features but increases training time.  \n",
    "\n",
    "---\n",
    "\n",
    "#### 10. Activation Function  \n",
    "**What it does?**  \n",
    "Introduces non-linearity into the model.  \n",
    "\n",
    "**Effect:**  \n",
    "Speeds up training and prevents vanishing gradients.  \n",
    "\n",
    "---\n",
    "\n",
    "#### 11. Learning Rate  \n",
    "**What it does?**  \n",
    "Controls how much the model updates during training.  \n",
    "\n",
    "**Effects:**  \n",
    "- **Lower** → Slower but more stable training.  \n",
    "- **Higher** → Faster training but risk of overshooting or overfitting.  \n",
    "\n",
    "---\n",
    "\n",
    "#### 12. Epochs  \n",
    "**What it does?**  \n",
    "Determines how many times the model trains on the dataset.  \n",
    "\n",
    "**Effect:**  \n",
    "More epochs allow deeper learning but may cause overfitting.  \n",
    "\n",
    "---\n",
    "\n",
    "#### 13. Optimiser  \n",
    "**What it does?**  \n",
    "Controls how the model updates weights.  \n",
    "\n",
    "**Effect:**  \n",
    "- Using **Adam** instead of traditional optimizers like SGD improves convergence speed and stability.  "
   ]
  },
  {
   "cell_type": "markdown",
   "metadata": {},
   "source": [
    "## **Results** <a class=\"anchor\" id=\"results\"></a>\n",
    "---"
   ]
  },
  {
   "cell_type": "markdown",
   "metadata": {},
   "source": [
    "### **Evaluating the Model on the Test Set**  \n",
    "\n",
    "This code evaluates the trained **CNN model** on the **test dataset** to measure its final accuracy.  \n",
    "\n",
    "- **`correct = 0, total = 0`**: These variables keep track of the number of correctly predicted samples and the total number of samples.  \n",
    "- **`model.eval()`**: Begins **evaluation**, which disables features like **dropout** and **batch normalization updates** for stable predictions.  \n",
    "- **`with torch.no_grad():`**: This disables the gradient calculation which **reduces memory usage and speeds up inference** as gradients are not needed for evaluation.  \n",
    "- **Iterating over the `testloader`**: The loop goes through all batches of **test images and labels**.  \n",
    "- **`outputs = model(images)`**: The model makes predictions on the test images.\n",
    "- **`_, predicted = torch.max(outputs, 1)`**: Extracts the class with the highest prediciton probability.  \n",
    "- **`correct += (predicted == labels).sum().item()`**: Counts the number of correct predictions.\n",
    "- **Final Accuracy Calculation**: The accuracy is calculated as **(correct predictions / total samples) × 100**.  "
   ]
  },
  {
   "cell_type": "code",
   "execution_count": 14,
   "metadata": {},
   "outputs": [
    {
     "name": "stdout",
     "output_type": "stream",
     "text": [
      "Accuracy on test set: 98.70%\n"
     ]
    }
   ],
   "source": [
    "correct = 0\n",
    "total = 0\n",
    "model.eval()\n",
    "\n",
    "with torch.no_grad():\n",
    "    for images, labels in testloader:\n",
    "        images, labels = images.to(device), labels.to(device)\n",
    "        outputs = model(images)\n",
    "        _, predicted = torch.max(outputs, 1)\n",
    "        total += labels.size(0)\n",
    "        correct += (predicted == labels).sum().item()\n",
    "\n",
    "accuracy = 100 * correct / total\n",
    "print(f'Accuracy on test set: {accuracy:.2f}%')"
   ]
  },
  {
   "cell_type": "markdown",
   "metadata": {},
   "source": [
    "### **Visualizing Model Predictions**  \n",
    "\n",
    "- **`images, labels = next(iter(testloader))`**: Retrieves a batch of the test images and labels.  \n",
    "- **`outputs = model(images.to(device))`**: Generate predictions onthe test data.  \n",
    "- **`_, predictions = torch.max(outputs, 1)`**: Extracts the predicted class with the highest probability for each image.  \n",
    "- Plots the predictions in relation to the test data."
   ]
  },
  {
   "cell_type": "code",
   "execution_count": 15,
   "metadata": {},
   "outputs": [
    {
     "data": {
      "image/png": "[encoded data removed]",
      "text/plain": [
       "<Figure size 1000x200 with 5 Axes>"
      ]
     },
     "metadata": {},
     "output_type": "display_data"
    }
   ],
   "source": [
    "def visualize_predictions():\n",
    "    images, labels = next(iter(testloader))\n",
    "    outputs = model(images.to(device))\n",
    "    _, predictions = torch.max(outputs, 1)\n",
    "\n",
    "    fig, axes = plt.subplots(1, 5, figsize=(10,2))\n",
    "    for i in range(5):\n",
    "        img = images[i].numpy().squeeze()\n",
    "        axes[i].imshow(img, cmap=\"gray\")\n",
    "        axes[i].set_title(f'Pred: {predictions[i].item()}')\n",
    "        axes[i].axis('off')\n",
    "    plt.show()\n",
    "\n",
    "visualize_predictions()"
   ]
  },
  {
   "cell_type": "markdown",
   "metadata": {},
   "source": [
    "### **Visualizing Training Performance**  \n",
    "\n",
    "This code generates **two plots** to analyze how the model improves during training over multiple epochs.  \n",
    "\n",
    "- **`plt.figure(figsize=(12, 5))`**: Creates a figure with a **width of 12 and height of 5**, providing enough space for two subplots.  \n",
    "\n",
    "#### **Training Loss Plot**  \n",
    "- **`plt.subplot(1, 2, 1)`**: Defines the first subplot (1 row, 2 columns, first plot).  \n",
    "- **`plt.plot(range(1, num_epochs + 1), train_losses, marker='o', linestyle='-', color='b')`**:  \n",
    "  - X-axis: **Epoch numbers (1 to `num_epochs`)**  \n",
    "  - Y-axis: **Training loss values**  \n",
    "  - **Marker `'o'`**: Marks each epoch point.  \n",
    "  - **Line `'b'` (blue)**: Connects loss values for better visualization.  \n",
    "- **`plt.xlabel('Epoch') / plt.ylabel('Loss')`**: Labels the X and Y axes.  \n",
    "- **`plt.title('Training Loss Over Epochs')`**: Adds a title to the loss plot.  \n",
    "\n",
    "#### **Training Accuracy Plot**  \n",
    "- **`plt.subplot(1, 2, 2)`**: Defines the second subplot (same row, second plot).  \n",
    "- **`plt.plot(range(1, num_epochs + 1), train_accuracies, marker='s', linestyle='-', color='g')`**:  \n",
    "  - X-axis: **Epoch numbers**  \n",
    "  - Y-axis: **Training accuracy (%)**  \n",
    "  - **Marker `'s'` (square)**: Marks each epoch point.  \n",
    "  - **Line `'g'` (green)**: Shows accuracy trend over epochs.  \n",
    "- **`plt.xlabel('Epoch') / plt.ylabel('Accuracy (%)')`**: Labels the axes.  \n",
    "- **`plt.title('Training Accuracy Over Epochs')`**: Adds a title to the accuracy plot.  \n",
    "\n",
    "#### **Displaying the Plots**  \n",
    "- **`plt.show()`**: Renders the figure with both plots.  \n",
    "\n",
    "These plots help visualize **how the model's loss decreases and accuracy improves over time**, giving insight into **training effectiveness** and potential **overfitting**. 🚀  \n"
   ]
  },
  {
   "cell_type": "code",
   "execution_count": 17,
   "metadata": {},
   "outputs": [
    {
     "data": {
      "image/png": "[encoded data removed]",
      "text/plain": [
       "<Figure size 1000x1200 with 3 Axes>"
      ]
     },
     "metadata": {},
     "output_type": "display_data"
    }
   ],
   "source": [
    "# Ensure you have actual values stored from the training loop\n",
    "num_epochs = len(train_losses)  # Get the correct number of epochs\n",
    "epochs = np.arange(1, num_epochs + 1)\n",
    "\n",
    "# Create a DataFrame for the table\n",
    "df = pd.DataFrame({\n",
    "    'Epoch': epochs,\n",
    "    'Train Loss': train_losses,\n",
    "    'Val Loss': val_losses,\n",
    "    'Train Acc (%)': train_accuracies,\n",
    "    'Val Acc (%)': val_accuracies\n",
    "})\n",
    "\n",
    "# Create the figure with 3 rows (2 graphs + 1 table)\n",
    "fig, axs = plt.subplots(3, 1, figsize=(10, 12))  \n",
    "fig.subplots_adjust(hspace=0.5)\n",
    "\n",
    "# Plot Training & Validation Loss\n",
    "axs[0].plot(epochs, train_losses, marker='o', linestyle='-', color='b', label='Train Loss')\n",
    "axs[0].plot(epochs, val_losses, marker='o', linestyle='--', color='r', label='Val Loss')\n",
    "axs[0].set_xlabel('Epoch')\n",
    "axs[0].set_ylabel('Loss')\n",
    "axs[0].set_title('Training & Validation Loss Over Epochs')\n",
    "axs[0].legend()\n",
    "\n",
    "# Plot Training & Validation Accuracy\n",
    "axs[1].plot(epochs, train_accuracies, marker='s', linestyle='-', color='g', label='Train Acc')\n",
    "axs[1].plot(epochs, val_accuracies, marker='s', linestyle='--', color='orange', label='Val Acc')\n",
    "axs[1].set_xlabel('Epoch')\n",
    "axs[1].set_ylabel('Accuracy (%)')\n",
    "axs[1].set_title('Training & Validation Accuracy Over Epochs')\n",
    "axs[1].legend()\n",
    "\n",
    "# Hide the third subplot's axis and add a table\n",
    "axs[2].axis('tight')\n",
    "axs[2].axis('off')\n",
    "axs[2].table(cellText=df.values, colLabels=df.columns, cellLoc='center', loc='center')\n",
    "\n",
    "plt.show()\n"
   ]
  },
  {
   "cell_type": "markdown",
   "metadata": {},
   "source": [
    "## **References** <a class=\"anchor\" id=\"references\"></a>\n",
    "---"
   ]
  },
  {
   "cell_type": "markdown",
   "metadata": {},
   "source": [
    "- https://www.techtarget.com/searchenterpriseai/definition/PyTorch\n",
    "- https://www.naukri.com/code360/library/torch-nn-module-in-pytorch\n",
    "- https://pytorch.org/docs/stable/optim.html\n",
    "- https://medium.com/the-modern-scientist/exploring-torchvision-a-powerful-toolkit-for-computer-vision-cb11f7e2e271\n",
    "- https://pytorch.org/vision/main/transforms.html#:~:text=Torchvision%20supports%20common%20computer%20vision,%2C%20segmentation%2C%20video%20classification.\n",
    "- https://matplotlib.org/\n",
    "- https://numpy.org/doc/2.2/user/whatisnumpy.html\n",
    "- https://www.sciencedirect.com/topics/engineering/convolutional-layer#:~:text=3.1.-,1%20Convolutional%20layer,channels%20of%20the%20convolution%20layer.\n",
    "- https://www.dremio.com/wiki/pooling-layers/#:~:text=What%20is%20the%20role%20of,Average%20Pooling%2C%20and%20Sum%20Pooling.\n",
    "- https://www.datacamp.com/tutorial/introduction-to-activation-functions-in-neural-networks\n",
    "- https://www.geeksforgeeks.org/fully-connected-layer-vs-convolutional-layer/\n",
    "- https://nn.readthedocs.io/en/rtd/criterion/#:~:text=Criterions%20are%20helpful%20to%20train,Criterions%20are%20serializable.\n",
    "- https://www.w3schools.com/python/pandas/pandas_intro.asp"
   ]
  },
  {
   "cell_type": "markdown",
   "metadata": {},
   "source": [
    "## **Bibliography** <a class=\"anchor\" id=\"bibliography\"></a>\n",
    "---"
   ]
  },
  {
   "cell_type": "markdown",
   "metadata": {},
   "source": []
  }
 ],
 "metadata": {
  "kernelspec": {
   "display_name": "Python 3",
   "language": "python",
   "name": "python3"
  },
  "language_info": {
   "codemirror_mode": {
    "name": "ipython",
    "version": 3
   },
   "file_extension": ".py",
   "mimetype": "text/x-python",
   "name": "python",
   "nbconvert_exporter": "python",
   "pygments_lexer": "ipython3",
   "version": "3.10.16"
  }
 },
 "nbformat": 4,
 "nbformat_minor": 2
}
